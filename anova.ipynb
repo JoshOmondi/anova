{
 "cells": [
  {
   "cell_type": "code",
   "execution_count": 1,
   "id": "fa574633",
   "metadata": {},
   "outputs": [],
   "source": [
    "import scipy.stats as stats\n",
    "import pandas as pd\n"
   ]
  },
  {
   "cell_type": "code",
   "execution_count": 2,
   "id": "4738e988",
   "metadata": {},
   "outputs": [
    {
     "name": "stdout",
     "output_type": "stream",
     "text": [
      "Teaching methods vs Test score f : 15.317829457364343 p value: 0.0004971066822809954\n",
      "all methods are similar\n"
     ]
    }
   ],
   "source": [
    "method_A = [85, 90, 88, 75, 95]\n",
    "method_B = [70, 65, 78, 72, 68]\n",
    "method_C = [88, 85, 84, 90, 92]\n",
    "\n",
    "f1, p1= stats.f_oneway(method_A, method_B, method_C)\n",
    "\n",
    "print(f\"Teaching methods vs Test score f : {f1} p value: {p1}\")\n",
    "\n",
    "if p1 > 0.05:\n",
    "    print(\"at least one method is different\")\n",
    "else:\n",
    "    print(\"all methods are similar\")"
   ]
  },
  {
   "cell_type": "code",
   "execution_count": 3,
   "id": "d6d8e6cc",
   "metadata": {},
   "outputs": [
    {
     "name": "stdout",
     "output_type": "stream",
     "text": [
      "Discussing diet type vs weight gain f : 27.786440677966134 p value: 3.1365545756314946e-05\n",
      "all diet types causes weight gain\n"
     ]
    }
   ],
   "source": [
    "# Explanation: Test whether people lose more weight on different diets (Keto, Vegan, Mediterranean).\n",
    "\n",
    "keto = [5.1, 4.8, 6.2, 5.7, 6.0]\n",
    "vegan = [3.2, 2.9, 3.8, 4.0, 3.6]\n",
    "mediterranean = [4.3, 4.0, 4.5, 4.2, 4.1]\n",
    "\n",
    "f2, p2= stats.f_oneway(keto,vegan, mediterranean)\n",
    "\n",
    "print(f\"Discussing diet type vs weight gain f : {f2} p value: {p2}\")\n",
    "\n",
    "if p2 > 0.05:\n",
    "    print(\"at least one diet type causes weight gain\")\n",
    "else:\n",
    "    print(\"all diet types causes weight gain\")\n",
    "\n"
   ]
  },
  {
   "cell_type": "markdown",
   "id": "d6217211",
   "metadata": {},
   "source": [
    "#### Q3 Phone brand vs Battery Life"
   ]
  },
  {
   "cell_type": "code",
   "execution_count": 4,
   "id": "c077c311",
   "metadata": {},
   "outputs": [
    {
     "name": "stdout",
     "output_type": "stream",
     "text": [
      "Discussing phone brand vs battery life f : 12.0 p value: 0.0013717421124828527\n",
      "all types of phones had long battery life\n"
     ]
    }
   ],
   "source": [
    "# Explanation: Check if battery life differs significantly across 3 phone brands.\n",
    "\n",
    "brand_X = [10, 12, 11, 13, 14]\n",
    "brand_Y = [8, 9, 10, 9.5, 8.5]\n",
    "brand_Z = [11, 12, 11.5, 13, 12.5]\n",
    "\n",
    "f3, p3= stats.f_oneway(brand_X, brand_Y, brand_Z)\n",
    "\n",
    "print(f\"Discussing phone brand vs battery life f : {f3} p value: {p3}\")\n",
    "\n",
    "if p2 > 0.05:\n",
    "    print(\"at least one phone had one long battery life\")\n",
    "else:\n",
    "    print(\"all types of phones had long battery life\")"
   ]
  },
  {
   "cell_type": "markdown",
   "id": "83b0a4fb",
   "metadata": {},
   "source": [
    "#### Q4 Study Hours vs Grades"
   ]
  },
  {
   "cell_type": "code",
   "execution_count": 5,
   "id": "00717bb6",
   "metadata": {},
   "outputs": [
    {
     "name": "stdout",
     "output_type": "stream",
     "text": [
      "Explain how study time affects student grades f : 173.0748299319729 : p value: 1.4148168322330918e-09\n",
      "at least one long study time affected the student grades\n"
     ]
    }
   ],
   "source": [
    "# Explanation: Does study time affect student grades?\n",
    "\n",
    "group_1 = [65, 60, 58, 63, 61]\n",
    "group_2 = [70, 72, 74, 71, 69]\n",
    "group_3 = [85, 87, 90, 86, 88]\n",
    "\n",
    "f4, p4= stats.f_oneway(group_1, group_2, group_3)\n",
    "\n",
    "print(f\"Explain how study time affects student grades f : {f4} : p value: {p4}\")\n",
    "\n",
    "if p4 < 0.05:\n",
    "    print(\"at least one long study time affected the student grades\")\n",
    "else:\n",
    "    print(\"all the study hours affected the grades\")"
   ]
  },
  {
   "cell_type": "markdown",
   "id": "3de5a73e",
   "metadata": {},
   "source": [
    "#### two-way anova"
   ]
  },
  {
   "cell_type": "code",
   "execution_count": 6,
   "id": "a60e18b8",
   "metadata": {},
   "outputs": [
    {
     "data": {
      "text/html": [
       "<div>\n",
       "<style scoped>\n",
       "    .dataframe tbody tr th:only-of-type {\n",
       "        vertical-align: middle;\n",
       "    }\n",
       "\n",
       "    .dataframe tbody tr th {\n",
       "        vertical-align: top;\n",
       "    }\n",
       "\n",
       "    .dataframe thead th {\n",
       "        text-align: right;\n",
       "    }\n",
       "</style>\n",
       "<table border=\"1\" class=\"dataframe\">\n",
       "  <thead>\n",
       "    <tr style=\"text-align: right;\">\n",
       "      <th></th>\n",
       "      <th>score</th>\n",
       "      <th>gender</th>\n",
       "      <th>method</th>\n",
       "    </tr>\n",
       "  </thead>\n",
       "  <tbody>\n",
       "    <tr>\n",
       "      <th>0</th>\n",
       "      <td>85</td>\n",
       "      <td>M</td>\n",
       "      <td>A</td>\n",
       "    </tr>\n",
       "    <tr>\n",
       "      <th>1</th>\n",
       "      <td>88</td>\n",
       "      <td>M</td>\n",
       "      <td>A</td>\n",
       "    </tr>\n",
       "    <tr>\n",
       "      <th>2</th>\n",
       "      <td>90</td>\n",
       "      <td>M</td>\n",
       "      <td>A</td>\n",
       "    </tr>\n",
       "    <tr>\n",
       "      <th>3</th>\n",
       "      <td>72</td>\n",
       "      <td>F</td>\n",
       "      <td>A</td>\n",
       "    </tr>\n",
       "    <tr>\n",
       "      <th>4</th>\n",
       "      <td>75</td>\n",
       "      <td>F</td>\n",
       "      <td>A</td>\n",
       "    </tr>\n",
       "  </tbody>\n",
       "</table>\n",
       "</div>"
      ],
      "text/plain": [
       "   score gender method\n",
       "0     85      M      A\n",
       "1     88      M      A\n",
       "2     90      M      A\n",
       "3     72      F      A\n",
       "4     75      F      A"
      ]
     },
     "execution_count": 6,
     "metadata": {},
     "output_type": "execute_result"
    }
   ],
   "source": [
    "import pandas as pd\n",
    "data = pd.DataFrame({\n",
    "    \"score\": [85, 88, 90, 72, 75, 78, 83, 85, 87, 65, 68, 70],\n",
    "    \"gender\": [\"M\", \"M\", \"M\", \"F\", \"F\", \"F\", \"M\", \"M\", \"M\", \"F\", \"F\", \"F\"],\n",
    "    \"method\": [\"A\", \"A\", \"A\", \"A\", \"A\", \"A\", \"B\", \"B\", \"B\", \"B\", \"B\", \"B\"]\n",
    "})\n",
    "data.head()"
   ]
  },
  {
   "cell_type": "code",
   "execution_count": 7,
   "id": "ca590119",
   "metadata": {},
   "outputs": [
    {
     "name": "stdout",
     "output_type": "stream",
     "text": [
      "\n",
      "Q8: Gender & Teaching Method vs Exam Scores\n",
      "                          sum_sq   df           F    PR(>F)\n",
      "C(gender)            675.000000  1.0  105.194805  0.000007\n",
      "C(method)             75.000000  1.0   11.688312  0.009104\n",
      "C(gender):C(method)   16.333333  1.0    2.545455  0.149279\n",
      "Residual              51.333333  8.0         NaN       NaN\n"
     ]
    }
   ],
   "source": [
    "import statsmodels.api as sm\n",
    "from statsmodels.formula.api import ols\n",
    "\n",
    "model_q8 = ols(\"score ~ C(gender) + C(method) + C(gender):C(method)\", data=data).fit()\n",
    "\n",
    "anova_q8 = sm.stats.anova_lm(model_q8, typ=2)\n",
    "print(\"\\nQ8: Gender & Teaching Method vs Exam Scores\\n\", anova_q8)\n"
   ]
  },
  {
   "cell_type": "markdown",
   "id": "b724b20d",
   "metadata": {},
   "source": [
    "#### Q10: Day & Store Location vs Sales"
   ]
  },
  {
   "cell_type": "code",
   "execution_count": 12,
   "id": "665143b3",
   "metadata": {},
   "outputs": [
    {
     "data": {
      "text/html": [
       "<div>\n",
       "<style scoped>\n",
       "    .dataframe tbody tr th:only-of-type {\n",
       "        vertical-align: middle;\n",
       "    }\n",
       "\n",
       "    .dataframe tbody tr th {\n",
       "        vertical-align: top;\n",
       "    }\n",
       "\n",
       "    .dataframe thead th {\n",
       "        text-align: right;\n",
       "    }\n",
       "</style>\n",
       "<table border=\"1\" class=\"dataframe\">\n",
       "  <thead>\n",
       "    <tr style=\"text-align: right;\">\n",
       "      <th></th>\n",
       "      <th>df</th>\n",
       "      <th>sum_sq</th>\n",
       "      <th>mean_sq</th>\n",
       "      <th>F</th>\n",
       "      <th>PR(&gt;F)</th>\n",
       "    </tr>\n",
       "  </thead>\n",
       "  <tbody>\n",
       "    <tr>\n",
       "      <th>C(day)</th>\n",
       "      <td>4.0</td>\n",
       "      <td>700.116667</td>\n",
       "      <td>175.029167</td>\n",
       "      <td>10.355053</td>\n",
       "      <td>0.007334</td>\n",
       "    </tr>\n",
       "    <tr>\n",
       "      <th>C(location)</th>\n",
       "      <td>1.0</td>\n",
       "      <td>16.133333</td>\n",
       "      <td>16.133333</td>\n",
       "      <td>0.954478</td>\n",
       "      <td>0.366312</td>\n",
       "    </tr>\n",
       "    <tr>\n",
       "      <th>C(day):location</th>\n",
       "      <td>5.0</td>\n",
       "      <td>73.647142</td>\n",
       "      <td>14.729428</td>\n",
       "      <td>0.871421</td>\n",
       "      <td>0.550425</td>\n",
       "    </tr>\n",
       "    <tr>\n",
       "      <th>Residual</th>\n",
       "      <td>6.0</td>\n",
       "      <td>101.416667</td>\n",
       "      <td>16.902778</td>\n",
       "      <td>NaN</td>\n",
       "      <td>NaN</td>\n",
       "    </tr>\n",
       "  </tbody>\n",
       "</table>\n",
       "</div>"
      ],
      "text/plain": [
       "                  df      sum_sq     mean_sq          F    PR(>F)\n",
       "C(day)           4.0  700.116667  175.029167  10.355053  0.007334\n",
       "C(location)      1.0   16.133333   16.133333   0.954478  0.366312\n",
       "C(day):location  5.0   73.647142   14.729428   0.871421  0.550425\n",
       "Residual         6.0  101.416667   16.902778        NaN       NaN"
      ]
     },
     "execution_count": 12,
     "metadata": {},
     "output_type": "execute_result"
    }
   ],
   "source": [
    "# Explanation: Test if sales differ based on day of the week, store location, or interaction.\n",
    "\n",
    "# Columns: 'sales', 'day' (e.g., Mon, Tue), 'location' (e.g., Urban, Rural)\n",
    "\n",
    "df = pd.DataFrame({\n",
    "    \"sales\": [85, 88, 90, 72, 75, 78, 83, 85, 87, 65, 68, 70],\n",
    "    \"day\": [\"M\", \"M\", \"M\", \"F\", \"WF\", \"F\", \"M\", \"M\", \"T\", \"F\", \"S\", \"F\"],\n",
    "    \"location\": [\"R\", \"U\", \"U\", \"R\", \"U\", \"R\", \"R\", \"U\", \"R\", \"R\", \"U\", \"R\"]\n",
    "})\n",
    "\n",
    "model_q10= ols(\"sales ~ C(day) + C(location) + C(day):(location)\", data=data).fit()\n",
    "\n",
    "anova_q10= sm.stats.anova_lm(model_q10, typ=1)\n",
    "anova_q10"
   ]
  }
 ],
 "metadata": {
  "kernelspec": {
   "display_name": "base",
   "language": "python",
   "name": "python3"
  },
  "language_info": {
   "codemirror_mode": {
    "name": "ipython",
    "version": 3
   },
   "file_extension": ".py",
   "mimetype": "text/x-python",
   "name": "python",
   "nbconvert_exporter": "python",
   "pygments_lexer": "ipython3",
   "version": "3.12.7"
  }
 },
 "nbformat": 4,
 "nbformat_minor": 5
}
